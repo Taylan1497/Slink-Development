{
 "cells": [
  {
   "cell_type": "code",
   "execution_count": 2,
   "metadata": {},
   "outputs": [
    {
     "name": "stdout",
     "output_type": "stream",
     "text": [
      "5.7.1\n"
     ]
    }
   ],
   "source": [
    "import cloudpickle\n",
    "import pandas as pd\n",
    "import seaborn as sns\n",
    "import matplotlib.pyplot as plt\n",
    "import matplotlib as mpl\n",
    "import itertools\n",
    "import sys \n",
    "mpl.rcParams['figure.dpi'] = 144\n",
    "import numpy as np\n",
    "import pyomo\n",
    "import pyomo.environ as pyo\n",
    "print(pyomo.__version__)\n",
    "from pyomo.gdp import *\n",
    "from pyomo.environ import value\n",
    "import operator\n"
   ]
  },
  {
   "cell_type": "code",
   "execution_count": 5,
   "metadata": {},
   "outputs": [
    {
     "name": "stderr",
     "output_type": "stream",
     "text": [
      "<ipython-input-5-452db3c09b81>:1: ParserWarning: Falling back to the 'python' engine because the 'c' engine does not support regex separators (separators > 1 char and different from '\\s+' are interpreted as regex); you can avoid this warning by specifying engine='python'.\n",
      "  linkRates = pd.read_csv('input_file_version10.csv', 'linkRates')\n"
     ]
    },
    {
     "data": {
      "text/html": [
       "<div>\n",
       "<style scoped>\n",
       "    .dataframe tbody tr th:only-of-type {\n",
       "        vertical-align: middle;\n",
       "    }\n",
       "\n",
       "    .dataframe tbody tr th {\n",
       "        vertical-align: top;\n",
       "    }\n",
       "\n",
       "    .dataframe thead th {\n",
       "        text-align: right;\n",
       "    }\n",
       "</style>\n",
       "<table border=\"1\" class=\"dataframe\">\n",
       "  <thead>\n",
       "    <tr style=\"text-align: right;\">\n",
       "      <th></th>\n",
       "      <th>,layer,MB,type,lpGBTs,eventSize,lpgbt_id,doublelpGBT</th>\n",
       "    </tr>\n",
       "  </thead>\n",
       "  <tbody>\n",
       "    <tr>\n",
       "      <th>0</th>\n",
       "      <td>0,1,0,0,\"[0, 1]\",323.57439999999997,0,True</td>\n",
       "    </tr>\n",
       "    <tr>\n",
       "      <th>1</th>\n",
       "      <td>1,1,1,0,[2],217.00220000000002,2,False</td>\n",
       "    </tr>\n",
       "    <tr>\n",
       "      <th>2</th>\n",
       "      <td>2,1,2,0,\"[3, 4]\",364.53499999999997,3,True</td>\n",
       "    </tr>\n",
       "    <tr>\n",
       "      <th>3</th>\n",
       "      <td>3,1,3,0,\"[5, 6]\",300.3104,5,True</td>\n",
       "    </tr>\n",
       "    <tr>\n",
       "      <th>4</th>\n",
       "      <td>4,1,4,1,[7],111.7748,7,False</td>\n",
       "    </tr>\n",
       "    <tr>\n",
       "      <th>...</th>\n",
       "      <td>...</td>\n",
       "    </tr>\n",
       "    <tr>\n",
       "      <th>1147</th>\n",
       "      <td>1147,47,0,11,[2163],15.9518,2163,False</td>\n",
       "    </tr>\n",
       "    <tr>\n",
       "      <th>1148</th>\n",
       "      <td>1148,47,0,11,[2164],16.1394,2164,False</td>\n",
       "    </tr>\n",
       "    <tr>\n",
       "      <th>1149</th>\n",
       "      <td>1149,47,0,11,[2165],16.0978,2165,False</td>\n",
       "    </tr>\n",
       "    <tr>\n",
       "      <th>1150</th>\n",
       "      <td>1150,47,0,11,[2166],16.0136,2166,False</td>\n",
       "    </tr>\n",
       "    <tr>\n",
       "      <th>1151</th>\n",
       "      <td>1151,47,0,11,[2167],16.0858,2167,False</td>\n",
       "    </tr>\n",
       "  </tbody>\n",
       "</table>\n",
       "<p>1152 rows × 1 columns</p>\n",
       "</div>"
      ],
      "text/plain": [
       "     ,layer,MB,type,lpGBTs,eventSize,lpgbt_id,doublelpGBT\n",
       "0            0,1,0,0,\"[0, 1]\",323.57439999999997,0,True  \n",
       "1                1,1,1,0,[2],217.00220000000002,2,False  \n",
       "2            2,1,2,0,\"[3, 4]\",364.53499999999997,3,True  \n",
       "3                      3,1,3,0,\"[5, 6]\",300.3104,5,True  \n",
       "4                          4,1,4,1,[7],111.7748,7,False  \n",
       "...                                                 ...  \n",
       "1147             1147,47,0,11,[2163],15.9518,2163,False  \n",
       "1148             1148,47,0,11,[2164],16.1394,2164,False  \n",
       "1149             1149,47,0,11,[2165],16.0978,2165,False  \n",
       "1150             1150,47,0,11,[2166],16.0136,2166,False  \n",
       "1151             1151,47,0,11,[2167],16.0858,2167,False  \n",
       "\n",
       "[1152 rows x 1 columns]"
      ]
     },
     "execution_count": 5,
     "metadata": {},
     "output_type": "execute_result"
    }
   ],
   "source": [
    "linkRates = pd.read_csv('input_file_version10.csv', 'linkRates')\n",
    "linkRates"
   ]
  },
  {
   "cell_type": "code",
   "execution_count": 3,
   "metadata": {},
   "outputs": [
    {
     "name": "stdout",
     "output_type": "stream",
     "text": [
      "\n",
      "There is a total of 1508 lpGBT links:\n",
      " - 1288 singles, and\n",
      " - 110 doubles (with one ECOND straddling the pair)\n",
      "\n"
     ]
    }
   ],
   "source": [
    "n_doubles = len(linkRates[ linkRates.doubleDAQlpGBT ])\n",
    "n_singles = len(linkRates[ ~linkRates.doubleDAQlpGBT ])\n",
    "n_links = n_singles + 2*n_doubles\n",
    "print(f\"\"\"\n",
    "There is a total of {n_links} lpGBT links:\n",
    " - {n_singles} singles, and\n",
    " - {n_doubles} doubles (with one ECOND straddling the pair)\n",
    "\"\"\")\n",
    "\n"
   ]
  },
  {
   "cell_type": "code",
   "execution_count": 4,
   "metadata": {},
   "outputs": [
    {
     "data": {
      "text/html": [
       "<div>\n",
       "<style scoped>\n",
       "    .dataframe tbody tr th:only-of-type {\n",
       "        vertical-align: middle;\n",
       "    }\n",
       "\n",
       "    .dataframe tbody tr th {\n",
       "        vertical-align: top;\n",
       "    }\n",
       "\n",
       "    .dataframe thead th {\n",
       "        text-align: right;\n",
       "    }\n",
       "</style>\n",
       "<table border=\"1\" class=\"dataframe\">\n",
       "  <thead>\n",
       "    <tr style=\"text-align: right;\">\n",
       "      <th></th>\n",
       "      <th>DAQlpGBT</th>\n",
       "      <th>EvSize</th>\n",
       "      <th>Elinks</th>\n",
       "      <th>Layer</th>\n",
       "      <th>U</th>\n",
       "      <th>V</th>\n",
       "      <th>LUV</th>\n",
       "      <th>nModules</th>\n",
       "      <th>doubleDAQlpGBT</th>\n",
       "      <th>EvSize [kb]</th>\n",
       "      <th>BitsPerElink</th>\n",
       "    </tr>\n",
       "  </thead>\n",
       "  <tbody>\n",
       "    <tr>\n",
       "      <th>1158</th>\n",
       "      <td>1378</td>\n",
       "      <td>12.1890</td>\n",
       "      <td>5.0</td>\n",
       "      <td>40</td>\n",
       "      <td>15.0</td>\n",
       "      <td>2.0</td>\n",
       "      <td>10482.0</td>\n",
       "      <td>1</td>\n",
       "      <td>False</td>\n",
       "      <td>0.390048</td>\n",
       "      <td>78.009600</td>\n",
       "    </tr>\n",
       "    <tr>\n",
       "      <th>1160</th>\n",
       "      <td>1380</td>\n",
       "      <td>12.1951</td>\n",
       "      <td>5.0</td>\n",
       "      <td>40</td>\n",
       "      <td>15.0</td>\n",
       "      <td>4.0</td>\n",
       "      <td>10484.0</td>\n",
       "      <td>1</td>\n",
       "      <td>False</td>\n",
       "      <td>0.390243</td>\n",
       "      <td>78.048640</td>\n",
       "    </tr>\n",
       "    <tr>\n",
       "      <th>1162</th>\n",
       "      <td>1382</td>\n",
       "      <td>12.1958</td>\n",
       "      <td>5.0</td>\n",
       "      <td>40</td>\n",
       "      <td>15.0</td>\n",
       "      <td>6.0</td>\n",
       "      <td>10486.0</td>\n",
       "      <td>1</td>\n",
       "      <td>False</td>\n",
       "      <td>0.390266</td>\n",
       "      <td>78.053120</td>\n",
       "    </tr>\n",
       "    <tr>\n",
       "      <th>1159</th>\n",
       "      <td>1379</td>\n",
       "      <td>12.1976</td>\n",
       "      <td>5.0</td>\n",
       "      <td>40</td>\n",
       "      <td>15.0</td>\n",
       "      <td>3.0</td>\n",
       "      <td>10483.0</td>\n",
       "      <td>1</td>\n",
       "      <td>False</td>\n",
       "      <td>0.390323</td>\n",
       "      <td>78.064640</td>\n",
       "    </tr>\n",
       "    <tr>\n",
       "      <th>1164</th>\n",
       "      <td>1384</td>\n",
       "      <td>12.1992</td>\n",
       "      <td>5.0</td>\n",
       "      <td>40</td>\n",
       "      <td>15.0</td>\n",
       "      <td>8.0</td>\n",
       "      <td>10488.0</td>\n",
       "      <td>1</td>\n",
       "      <td>False</td>\n",
       "      <td>0.390374</td>\n",
       "      <td>78.074880</td>\n",
       "    </tr>\n",
       "    <tr>\n",
       "      <th>...</th>\n",
       "      <td>...</td>\n",
       "      <td>...</td>\n",
       "      <td>...</td>\n",
       "      <td>...</td>\n",
       "      <td>...</td>\n",
       "      <td>...</td>\n",
       "      <td>...</td>\n",
       "      <td>...</td>\n",
       "      <td>...</td>\n",
       "      <td>...</td>\n",
       "      <td>...</td>\n",
       "    </tr>\n",
       "    <tr>\n",
       "      <th>40</th>\n",
       "      <td>192</td>\n",
       "      <td>461.9141</td>\n",
       "      <td>13.0</td>\n",
       "      <td>7</td>\n",
       "      <td>3.0</td>\n",
       "      <td>0.0</td>\n",
       "      <td>1840.0</td>\n",
       "      <td>3</td>\n",
       "      <td>True</td>\n",
       "      <td>14.781251</td>\n",
       "      <td>1137.019323</td>\n",
       "    </tr>\n",
       "    <tr>\n",
       "      <th>13</th>\n",
       "      <td>62</td>\n",
       "      <td>467.5174</td>\n",
       "      <td>13.0</td>\n",
       "      <td>3</td>\n",
       "      <td>3.0</td>\n",
       "      <td>3.0</td>\n",
       "      <td>819.0</td>\n",
       "      <td>3</td>\n",
       "      <td>True</td>\n",
       "      <td>14.960557</td>\n",
       "      <td>1150.812062</td>\n",
       "    </tr>\n",
       "    <tr>\n",
       "      <th>12</th>\n",
       "      <td>60</td>\n",
       "      <td>467.6358</td>\n",
       "      <td>13.0</td>\n",
       "      <td>3</td>\n",
       "      <td>3.0</td>\n",
       "      <td>0.0</td>\n",
       "      <td>816.0</td>\n",
       "      <td>3</td>\n",
       "      <td>True</td>\n",
       "      <td>14.964346</td>\n",
       "      <td>1151.103508</td>\n",
       "    </tr>\n",
       "    <tr>\n",
       "      <th>24</th>\n",
       "      <td>124</td>\n",
       "      <td>483.2248</td>\n",
       "      <td>13.0</td>\n",
       "      <td>5</td>\n",
       "      <td>3.0</td>\n",
       "      <td>0.0</td>\n",
       "      <td>1328.0</td>\n",
       "      <td>3</td>\n",
       "      <td>True</td>\n",
       "      <td>15.463194</td>\n",
       "      <td>1189.476431</td>\n",
       "    </tr>\n",
       "    <tr>\n",
       "      <th>25</th>\n",
       "      <td>126</td>\n",
       "      <td>483.2699</td>\n",
       "      <td>13.0</td>\n",
       "      <td>5</td>\n",
       "      <td>3.0</td>\n",
       "      <td>3.0</td>\n",
       "      <td>1331.0</td>\n",
       "      <td>3</td>\n",
       "      <td>True</td>\n",
       "      <td>15.464637</td>\n",
       "      <td>1189.587446</td>\n",
       "    </tr>\n",
       "  </tbody>\n",
       "</table>\n",
       "<p>1398 rows × 11 columns</p>\n",
       "</div>"
      ],
      "text/plain": [
       "      DAQlpGBT    EvSize  Elinks  Layer     U    V      LUV  nModules  \\\n",
       "1158      1378   12.1890     5.0     40  15.0  2.0  10482.0         1   \n",
       "1160      1380   12.1951     5.0     40  15.0  4.0  10484.0         1   \n",
       "1162      1382   12.1958     5.0     40  15.0  6.0  10486.0         1   \n",
       "1159      1379   12.1976     5.0     40  15.0  3.0  10483.0         1   \n",
       "1164      1384   12.1992     5.0     40  15.0  8.0  10488.0         1   \n",
       "...        ...       ...     ...    ...   ...  ...      ...       ...   \n",
       "40         192  461.9141    13.0      7   3.0  0.0   1840.0         3   \n",
       "13          62  467.5174    13.0      3   3.0  3.0    819.0         3   \n",
       "12          60  467.6358    13.0      3   3.0  0.0    816.0         3   \n",
       "24         124  483.2248    13.0      5   3.0  0.0   1328.0         3   \n",
       "25         126  483.2699    13.0      5   3.0  3.0   1331.0         3   \n",
       "\n",
       "      doubleDAQlpGBT  EvSize [kb]  BitsPerElink  \n",
       "1158           False     0.390048     78.009600  \n",
       "1160           False     0.390243     78.048640  \n",
       "1162           False     0.390266     78.053120  \n",
       "1159           False     0.390323     78.064640  \n",
       "1164           False     0.390374     78.074880  \n",
       "...              ...          ...           ...  \n",
       "40              True    14.781251   1137.019323  \n",
       "13              True    14.960557   1150.812062  \n",
       "12              True    14.964346   1151.103508  \n",
       "24              True    15.463194   1189.476431  \n",
       "25              True    15.464637   1189.587446  \n",
       "\n",
       "[1398 rows x 11 columns]"
      ]
     },
     "execution_count": 4,
     "metadata": {},
     "output_type": "execute_result"
    }
   ],
   "source": [
    "\n",
    "sortedRates = linkRates[ ~linkRates.doubleDAQlpGBT ].sort_values(by='EvSize')\n",
    "SizeSortedRates =  linkRates.sort_values(by='EvSize', ascending=True)\n",
    "SizeSortedRates\n"
   ]
  },
  {
   "cell_type": "code",
   "execution_count": 5,
   "metadata": {},
   "outputs": [],
   "source": [
    "assert( len(sortedRates)%2 == 0 )"
   ]
  },
  {
   "cell_type": "code",
   "execution_count": 6,
   "metadata": {},
   "outputs": [],
   "source": [
    "linkRates['nDAQlpGBT'] = linkRates.doubleDAQlpGBT.apply(lambda d: 2 if d else 1)\n"
   ]
  },
  {
   "cell_type": "code",
   "execution_count": 7,
   "metadata": {},
   "outputs": [],
   "source": [
    "nFPGA = 28 #max=28\n",
    "#runNumber = 3 #max=4\n",
    "splitNumber=4\n",
    "\n",
    "warmStart=False\n",
    "hardStart=True\n",
    "\n",
    "#---------------------------------------------------\n",
    "\n",
    "nGBTSingles = int((1288*nFPGA)/nFPGA)\n",
    "#nGBTSingles = len(SizeSortedRates[(SizeSortedRates[\"doubleDAQlpGBT\"]== False) ])\n",
    "nGBTDoubles = int((110*nFPGA)/nFPGA)\n",
    "#nGBTDoubles = len(SizeSortedRates[(SizeSortedRates[\"doubleDAQlpGBT\"]== True) ])\n",
    "#maxSlinkRate = 300\n",
    "nSlinks = nFPGA*8  #336\n",
    "\n",
    "#---------------------------------------------------\n",
    "\n",
    "nGBTs = nGBTSingles + nGBTDoubles\n",
    "maxGBTsPerSlink = 12\n",
    "SlinkPerFPGA = 8\n",
    "\n"
   ]
  },
  {
   "cell_type": "code",
   "execution_count": 8,
   "metadata": {},
   "outputs": [
    {
     "name": "stdout",
     "output_type": "stream",
     "text": [
      "\n",
      "Toy problem parameters:\n",
      "- 1398 lpGBT inputs.\n",
      "  - 1288 lpGBT singles, and\n",
      "  - 110 lpGBT doubles.\n",
      "- 224 Slink outputs.\n",
      "  - Up to 12 lpGBTs served by each SLink.\n",
      "\n",
      "\n",
      " - 28 FPGAs and\n",
      " - 8 Slinks served by each FPGA.\n",
      "\n"
     ]
    }
   ],
   "source": [
    "print(f\"\"\"\n",
    "Toy problem parameters:\n",
    "- {nGBTs} lpGBT inputs.\n",
    "  - {nGBTSingles} lpGBT singles, and\n",
    "  - {nGBTDoubles} lpGBT doubles.\n",
    "- {nSlinks} Slink outputs.\n",
    "  - Up to {maxGBTsPerSlink} lpGBTs served by each SLink.\n",
    "\"\"\")\n",
    "print(f\"\"\"\n",
    " - {nFPGA} FPGAs and\n",
    " - {SlinkPerFPGA} Slinks served by each FPGA.\n",
    "\"\"\")\n",
    "\n"
   ]
  },
  {
   "cell_type": "code",
   "execution_count": 9,
   "metadata": {},
   "outputs": [],
   "source": [
    "def split_dict_equally(input_dict, chunks=2):\n",
    "    \"Splits dict by keys. Returns a list of dictionaries.\"\n",
    "    # prep with empty dicts\n",
    "    return_list = [dict() for idx in range(chunks)]\n",
    "    idx = 0\n",
    "    for k,v in input_dict.items():\n",
    "        return_list[idx][k] = v\n",
    "        if idx < chunks-1:  # indexes start at 0\n",
    "            idx += 1\n",
    "        else:\n",
    "            idx = 0\n",
    "    return return_list\n"
   ]
  },
  {
   "cell_type": "code",
   "execution_count": 10,
   "metadata": {},
   "outputs": [
    {
     "name": "stdout",
     "output_type": "stream",
     "text": [
      "429\n",
      "{364: 101.6522, 712: 101.7297, 775: 101.7515, 774: 101.75710000000001, 703: 101.79149999999998, 366: 101.8058, 616: 101.85329999999999, 617: 101.9138, 1024: 102.2541, 1025: 102.35079999999999, 1010: 102.49589999999998, 1011: 102.5005, 333: 102.8258, 330: 102.91199999999999, 331: 102.9726, 542: 102.97670000000001, 543: 103.01419999999999, 332: 103.0669, 1119: 103.1788, 1116: 103.2344, 727: 103.2387, 725: 103.3066, 759: 103.6225, 757: 103.7158, 217: 103.9479, 648: 103.98109999999998, 649: 103.9851, 638: 104.067, 216: 104.11319999999999, 373: 104.1889, 639: 104.1986, 372: 104.23060000000001, 914: 104.66792, 915: 104.75259, 553: 104.79920000000001, 552: 104.86320000000002, 969: 104.9403, 26: 104.99390000000001, 970: 105.05099999999999, 27: 105.0616, 956: 105.6527, 955: 105.7606, 457: 105.8179, 455: 105.9285, 454: 105.9863, 456: 106.0684, 663: 106.193, 241: 106.2282, 661: 106.2782, 240: 106.3634, 695: 106.52770000000001, 693: 106.5575, 482: 106.587, 510: 106.64569999999999, 511: 106.71209999999998, 585: 106.8038, 483: 106.8046, 584: 106.8335, 574: 106.9451, 575: 107.08109999999999, 981: 107.21670000000002, 982: 107.3433, 901: 107.76780999999998, 900: 107.77009000000001, 927: 107.79359, 928: 107.83891, 489: 108.57329999999999, 488: 108.6173, 597: 109.49799999999999, 599: 109.5124, 426: 109.5782, 427: 109.6663, 309: 109.82140000000001, 629: 109.83349999999999, 631: 109.86930000000001, 303: 109.94059999999999, 308: 109.99190000000002, 302: 110.02420000000001, 520: 110.5581, 521: 110.57300000000001, 884: 111.27876, 883: 111.2986, 448: 111.4942, 251: 111.6033, 419: 111.6081, 983: 111.61069999999998, 250: 111.6238, 449: 111.65169999999999, 418: 111.6915, 397: 111.8809, 403: 111.9442, 402: 111.9873, 395: 112.06029999999998, 394: 112.0621, 396: 112.1518, 153: 112.279, 152: 112.36529999999999, 273: 112.7151, 272: 112.7718, 535: 113.40289999999999, 533: 113.4545, 567: 113.74080000000001, 565: 113.887, 342: 114.67269999999999, 343: 114.72999999999999, 459: 115.4603, 458: 115.48100000000001, 173: 115.6707, 172: 115.6955, 368: 116.4988, 369: 116.6223, 929: 116.88109999999999, 388: 118.27369999999999, 389: 118.3256, 359: 118.3493, 358: 118.447, 1101: 118.5527, 473: 118.6237, 471: 118.7039, 938: 118.81249999999999, 501: 118.958, 503: 119.00739999999999, 1064: 119.2185, 49: 119.8472, 48: 119.8868, 243: 120.1801, 398: 120.26580000000001, 399: 120.2766, 245: 120.2869, 242: 120.31110000000001, 244: 120.4111, 335: 120.4824, 337: 120.6025, 334: 120.6056, 336: 120.71629999999999, 187: 120.9249, 186: 120.9534, 115: 121.8416, 114: 121.8688, 1019: 122.35210000000001, 18: 122.45580000000001, 19: 122.5056, 89: 122.7546, 88: 122.8569, 885: 122.8621, 209: 123.8939, 283: 123.9283, 282: 123.9339, 1049: 123.98939999999999, 208: 124.1115, 307: 125.81620000000001, 306: 125.9548, 411: 126.5916, 441: 126.7075, 409: 126.7459, 439: 126.8068, 237: 126.9797, 236: 127.03689999999999, 328: 127.4609, 300: 127.4675, 301: 127.5442, 329: 127.5454, 123: 127.76700000000001, 122: 127.8846, 1005: 128.1621, 339: 129.58550000000002, 338: 129.76229999999998, 219: 130.9426, 218: 131.0647, 179: 131.1381, 181: 131.18380000000002, 178: 131.2062, 180: 131.2462, 1048: 131.7654, 277: 131.9012, 274: 132.1727, 275: 132.17940000000002, 276: 132.19209999999998, 1047: 132.2247, 21: 132.6581, 23: 132.6999, 22: 132.7535, 20: 132.8645, 53: 133.7296, 51: 133.78119999999998, 52: 133.86870000000002, 50: 133.9072, 145: 134.1107, 144: 134.1629, 29: 134.7113, 28: 134.7185, 213: 135.43720000000002, 211: 135.4799, 212: 135.5892, 210: 135.79410000000001, 964: 135.855, 990: 136.1441, 1081: 136.3683, 1080: 136.477, 83: 136.8476, 82: 136.9986, 247: 137.4574, 246: 137.49689999999998, 183: 137.9587, 1031: 138.0778, 175: 138.18560000000002, 1030: 138.1946, 174: 138.19819999999999, 182: 138.2592, 119: 138.3642, 118: 138.4171, 1032: 138.4708, 90: 139.02839999999998, 91: 139.09290000000001, 1082: 139.0968, 268: 139.57080000000002, 269: 139.6029, 112: 140.44320000000002, 113: 140.4825, 155: 141.4087, 154: 141.4976, 278: 141.961, 279: 141.9841, 1062: 142.0273, 1061: 142.0412, 15: 142.2112, 14: 142.4875, 204: 142.5013, 205: 142.5941, 950: 143.2857, 117: 143.8876, 116: 144.0229, 1063: 144.2953, 55: 144.41830000000002, 54: 144.5187, 989: 145.244, 44: 145.3125, 45: 145.37369999999999, 988: 145.4572, 111: 146.53400000000002, 110: 146.54919999999998, 149: 147.0088, 148: 147.0916, 147: 147.0924, 146: 147.2995, 1017: 148.30020000000002, 1016: 148.35240000000002, 937: 148.7713, 298: 149.4393, 299: 149.47019999999998, 728: 150.0472, 730: 150.1752, 81: 150.2584, 87: 150.36180000000002, 80: 150.37969999999999, 86: 150.4488, 909: 150.5179, 24: 150.86069999999998, 25: 150.8759, 1018: 151.18290000000002, 214: 152.13610000000003, 215: 152.1855, 975: 153.3594, 976: 153.60649999999998, 793: 153.6114, 792: 153.6986, 141: 154.6888, 140: 154.7615, 666: 155.19, 664: 155.27249999999998, 1004: 155.5504, 1002: 155.6285, 698: 156.4669, 696: 156.4832, 733: 157.2554, 732: 157.27640000000002, 1099: 157.83679999999998, 762: 158.0183, 763: 158.0269, 1100: 158.2327, 238: 158.951, 1003: 159.0017, 239: 159.0196, 78: 159.3039, 79: 159.44010000000003, 602: 161.0692, 600: 161.2237, 669: 161.3822, 668: 161.42950000000002, 936: 161.87369999999999, 934: 162.0539, 701: 162.1417, 700: 162.2252, 634: 162.43529999999998, 632: 162.6169, 961: 162.61950000000002, 962: 162.7557, 150: 164.8545, 151: 164.8816, 271: 165.8879, 270: 166.03130000000002, 605: 166.3012, 604: 166.333, 637: 167.0605, 636: 167.1456, 924: 167.5873, 788: 168.0381, 963: 168.08790000000002, 786: 168.2816, 538: 168.7595, 536: 168.90109999999999, 84: 169.18650000000002, 85: 169.1878, 570: 170.17520000000002, 568: 170.2679, 947: 171.1454, 948: 171.2256, 177: 172.5667, 541: 172.6008, 176: 172.62390000000002, 540: 172.6916, 573: 173.3066, 572: 173.3784, 726: 173.44490000000002, 724: 173.66500000000002, 880: 174.446, 17: 176.1, 16: 176.14950000000002, 949: 177.3086, 758: 177.5816, 47: 177.9404, 756: 177.9468, 46: 178.10000000000002, 662: 178.9051, 660: 179.0817, 476: 179.5811, 905: 179.7017, 474: 179.70170000000002, 906: 179.7316, 848: 180.564, 850: 180.5709, 207: 180.58870000000002, 206: 180.6562, 506: 180.6876, 504: 180.9158, 109: 181.0358, 108: 181.0429, 479: 181.4372, 852: 181.44549999999998, 478: 181.5367, 853: 181.5421, 509: 181.8423, 508: 182.0448, 694: 183.0266, 692: 183.36469999999997, 598: 185.5583, 596: 185.6297, 790: 187.08540000000002, 791: 187.14509999999999, 784: 187.75260000000003, 782: 188.2935, 820: 188.4326, 891: 188.5, 821: 188.5409, 890: 188.6264, 630: 189.64530000000002, 628: 189.9275, 722: 193.8289, 417: 193.8304, 447: 193.9492, 414: 194.1344, 416: 194.1541, 412: 194.1922, 720: 194.21609999999998, 760: 194.234, 446: 194.2631, 761: 194.41629999999998, 534: 194.5647, 532: 194.6354, 143: 194.89149999999998, 142: 194.9946, 444: 195.20010000000002, 442: 195.3374, 104: 198.2147, 77: 198.22500000000002, 106: 198.3324, 566: 198.4031, 76: 198.43149999999997, 564: 198.4857, 754: 198.9359, 752: 199.3269, 200: 200.25310000000002, 658: 200.3191, 202: 200.3193, 656: 200.74779999999998, 690: 205.537, 688: 205.90820000000002, 470: 206.6837, 472: 206.69279999999998, 594: 208.39139999999998, 592: 208.6793, 387: 209.7867, 386: 209.97379999999998, 500: 210.1307, 357: 210.1666, 502: 210.2038, 356: 210.23329999999999, 72: 211.6275, 74: 211.6944, 626: 213.5566, 624: 214.11989999999997, 136: 214.637, 138: 214.7686, 530: 219.1277, 528: 219.29579999999999, 410: 222.47500000000002, 408: 222.559, 562: 223.7453, 560: 224.16449999999998, 440: 225.882, 438: 225.937, 297: 228.3437, 296: 228.55699999999996, 327: 228.602, 326: 228.8748, 13: 240.2424, 12: 240.4057, 43: 262.6971, 42: 262.9341}\n"
     ]
    }
   ],
   "source": [
    "mode='HtoL' #{'HtoL': high to low, 'LtoH': low to high, 'Ht': highest, 'Lt': lowest}\n",
    "\n",
    "lowS=SizeSortedRates[(SizeSortedRates[\"doubleDAQlpGBT\"]== False) ].set_index('DAQlpGBT')[\"EvSize\"][:int(nGBTSingles/3)].to_dict()\n",
    "medS=SizeSortedRates[(SizeSortedRates[\"doubleDAQlpGBT\"]== False) ].set_index('DAQlpGBT')[\"EvSize\"][int(len(SizeSortedRates[(SizeSortedRates[\"doubleDAQlpGBT\"]== False) ])/2)-int(nGBTSingles/6):int(len(SizeSortedRates[(SizeSortedRates[\"doubleDAQlpGBT\"]== False) ])/2)+int(nGBTSingles/6)].to_dict()\n",
    "if nFPGA==nFPGA:\n",
    "    medS=SizeSortedRates[(SizeSortedRates[\"doubleDAQlpGBT\"]== False) ].set_index('DAQlpGBT')[\"EvSize\"][int(nGBTSingles/3):-1*int(nGBTSingles/3)].to_dict()\n",
    "highS=SizeSortedRates[(SizeSortedRates[\"doubleDAQlpGBT\"]== False) ].set_index('DAQlpGBT')[\"EvSize\"][-1*int(nGBTSingles/3):].to_dict()\n",
    "\n",
    "lowD=SizeSortedRates[(SizeSortedRates[\"doubleDAQlpGBT\"]== True) ].set_index('DAQlpGBT')[\"EvSize\"][:int(nGBTDoubles/3)].to_dict()\n",
    "medD=SizeSortedRates[(SizeSortedRates[\"doubleDAQlpGBT\"]== True) ].set_index('DAQlpGBT')[\"EvSize\"][int(len(SizeSortedRates[(SizeSortedRates[\"doubleDAQlpGBT\"]== True) ])/2)-int(nGBTDoubles/6):int(len(SizeSortedRates[(SizeSortedRates[\"doubleDAQlpGBT\"]== True) ])/2)+int(nGBTDoubles/6)].to_dict()\n",
    "if nFPGA==nFPGA:\n",
    "    medD=SizeSortedRates[(SizeSortedRates[\"doubleDAQlpGBT\"]== True) ].set_index('DAQlpGBT')[\"EvSize\"][int(nGBTDoubles/3):-1*int(nGBTDoubles/3)].to_dict()\n",
    "highD=SizeSortedRates[(SizeSortedRates[\"doubleDAQlpGBT\"]== True) ].set_index('DAQlpGBT')[\"EvSize\"][-1*int(nGBTDoubles/3):].to_dict()\n",
    "\n",
    "#------------------------------------------------------------\n",
    "\n",
    "lowS_1={}\n",
    "medS_1={}\n",
    "highS_1=highS\n",
    "\n",
    "lowD_1=lowD\n",
    "medD_1=medD\n",
    "highD_1=highD\n",
    "\n",
    "    \n",
    "#------------------------------------------------------------\n",
    "\n",
    "if mode=='LtoH':\n",
    "    medS_1.update(highS_1)\n",
    "    lowS_1.update(medS_1)\n",
    "    \n",
    "    medD_1.update(highD_1)\n",
    "    lowD_1.update(medD_1)\n",
    "    \n",
    "    singleGBTRates_1 = lowS_1\n",
    "    doubleGBTRates_1 = lowD_1\n",
    "if mode=='HtoL':\n",
    "    medS_1.update(lowS_1)\n",
    "    highS_1.update(medS_1)\n",
    "    \n",
    "    medD_1.update(lowD_1)\n",
    "    highD_1.update(medD_1)\n",
    "    \n",
    "    singleGBTRates_1 = highS_1\n",
    "    doubleGBTRates_1 = highD_1\n",
    "if mode=='Lt':\n",
    "    SizeSortedRates =  linkRates.sort_values(by='EvSize', ascending=True)\n",
    "    singleGBTRates_1 = split_dict_equally(SizeSortedRates[(SizeSortedRates[\"doubleDAQlpGBT\"]== False) ][\"EvSize\"][:nGBTSingles].to_dict())[1]\n",
    "    doubleGBTRates_1 = split_dict_equally(SizeSortedRates[(SizeSortedRates[\"doubleDAQlpGBT\"]== True)  ][\"EvSize\"][:nGBTDoubles].to_dict())[1]\n",
    "if mode=='Ht':\n",
    "    SizeSortedRates =  linkRates.sort_values(by='EvSize', ascending=False)\n",
    "    singleGBTRates_1 = split_dict_equally(SizeSortedRates[(SizeSortedRates[\"doubleDAQlpGBT\"]== False) ][\"EvSize\"][:nGBTSingles].to_dict())[1]\n",
    "    doubleGBTRates_1 = split_dict_equally(SizeSortedRates[(SizeSortedRates[\"doubleDAQlpGBT\"]== True)  ][\"EvSize\"][:nGBTDoubles].to_dict())[1]\n",
    "\n",
    "print(len(singleGBTRates_1))\n",
    "print(singleGBTRates_1)\n",
    "#print(len(doubleGBTRates_1))\n",
    "#print(doubleGBTRates_1)\n",
    "\n"
   ]
  },
  {
   "cell_type": "code",
   "execution_count": 11,
   "metadata": {},
   "outputs": [],
   "source": [
    "totalRate = ( sum([i for i in singleGBTRates_1.values()])+sum([i for i in doubleGBTRates_1.values()]) )"
   ]
  },
  {
   "cell_type": "code",
   "execution_count": 12,
   "metadata": {},
   "outputs": [
    {
     "name": "stdout",
     "output_type": "stream",
     "text": [
      "\n",
      "Total lpGBT rate: 100269.13486999997\n",
      "Average lpGBT rate: 1021.5375897272725\n",
      "Average Slink rate: 447.6300663839284\n",
      "\n"
     ]
    }
   ],
   "source": [
    "print(f\"\"\"\n",
    "Total lpGBT rate: {totalRate}\n",
    "Average lpGBT rate: {totalRate /len(doubleGBTRates_1)+len(doubleGBTRates_1)}\n",
    "Average Slink rate: {totalRate / nSlinks}\n",
    "\"\"\")\n"
   ]
  },
  {
   "cell_type": "code",
   "execution_count": 13,
   "metadata": {},
   "outputs": [
    {
     "name": "stdout",
     "output_type": "stream",
     "text": [
      "maxSlinkRatePyomo:  900\n"
     ]
    }
   ],
   "source": [
    "#maxSlinkRatePyomo = (totalRate / nSlinks)*1.8\n",
    "maxSlinkRatePyomo = 900\n",
    "#maxSlinkRatePyomo = (totalRate / (len(doubleGBTRates_1)+len(singleGBTRates_1)))*1.5\n",
    "maxSlinkRateGekko = (totalRate / nSlinks)*1.4\n",
    "print(\"maxSlinkRatePyomo: \",maxSlinkRatePyomo)\n",
    "#print(\"maxSlinkRateGekko: \",maxSlinkRateGekko)\n",
    "avSlinkEvSize = totalRate/nSlinks\n",
    "\n"
   ]
  },
  {
   "cell_type": "code",
   "execution_count": 14,
   "metadata": {},
   "outputs": [
    {
     "name": "stderr",
     "output_type": "stream",
     "text": [
      "/home/taylan/anaconda3/lib/python3.8/site-packages/seaborn/distributions.py:2557: FutureWarning: `distplot` is a deprecated function and will be removed in a future version. Please adapt your code to use either `displot` (a figure-level function with similar flexibility) or `histplot` (an axes-level function for histograms).\n",
      "  warnings.warn(msg, FutureWarning)\n",
      "/home/taylan/anaconda3/lib/python3.8/site-packages/seaborn/distributions.py:2056: FutureWarning: The `axis` variable is no longer used and will be removed. Instead, assign variables directly to `x` or `y`.\n",
      "  warnings.warn(msg, FutureWarning)\n",
      "/home/taylan/anaconda3/lib/python3.8/site-packages/seaborn/distributions.py:2557: FutureWarning: `distplot` is a deprecated function and will be removed in a future version. Please adapt your code to use either `displot` (a figure-level function with similar flexibility) or `histplot` (an axes-level function for histograms).\n",
      "  warnings.warn(msg, FutureWarning)\n",
      "/home/taylan/anaconda3/lib/python3.8/site-packages/seaborn/distributions.py:2056: FutureWarning: The `axis` variable is no longer used and will be removed. Instead, assign variables directly to `x` or `y`.\n",
      "  warnings.warn(msg, FutureWarning)\n"
     ]
    },
    {
     "data": {
      "text/plain": [
       "<matplotlib.legend.Legend at 0x7f0a9d6b7040>"
      ]
     },
     "execution_count": 14,
     "metadata": {},
     "output_type": "execute_result"
    },
    {
     "data": {
      "image/png": "[encoded data removed]",
      "text/plain": [
       "<Figure size 1008x432 with 1 Axes>"
      ]
     },
     "metadata": {
      "needs_background": "light"
     },
     "output_type": "display_data"
    }
   ],
   "source": [
    "f, ax = plt.subplots(figsize=(7, 3))\n",
    "sns.distplot(\n",
    "    [i for i in singleGBTRates_1.values()],\n",
    "    kde=False,\n",
    "    rug=True,\n",
    "    label='Single lpGBT'\n",
    "    )\n",
    "plt.annotate('Average', xy=(avSlinkEvSize,0), xytext=(avSlinkEvSize, 30),  ha='center',\n",
    "             arrowprops=dict(facecolor='black', shrink=0.05, headwidth=4, width=1))\n",
    "sns.distplot(\n",
    "    [i for i in doubleGBTRates_1.values()],\n",
    "    kde=False,\n",
    "    rug=True,\n",
    "    label='Double lpGBT'\n",
    "    )\n",
    "plt.legend()\n",
    "\n"
   ]
  },
  {
   "cell_type": "code",
   "execution_count": 15,
   "metadata": {},
   "outputs": [],
   "source": [
    "from dataclasses import dataclass\n",
    "@dataclass\n",
    "class Slink:\n",
    "    totalEvSize: float\n",
    "    linkList: list\n",
    "\n",
    "from operator import attrgetter\n",
    "def assign_link(link, Slinks):\n",
    "    Slinks.sort(key=attrgetter('totalEvSize'))\n",
    "    target = Slinks[0]\n",
    "    target.linkList.append(link[0])\n",
    "    target.totalEvSize += link[1]\n",
    "    return Slinks\n",
    "\n",
    "Slinks = [Slink(totalEvSize=0, linkList=[]) for _ in range(nSlinks)]\n",
    "#for link in sortedLinkRates.itertuples(name='Link', index=False):\n",
    "#    Slinks = assign_link(link, Slinks)\n",
    "\n",
    "lpGBTs={}\n",
    "lpGBTs.update(doubleGBTRates_1)\n",
    "lpGBTs.update(singleGBTRates_1)\n",
    "lpGBTs={k: v for k, v in sorted(lpGBTs.items(), key=lambda item: item[1],reverse=True)}\n",
    "for link in lpGBTs.items():\n",
    "    Slinks = assign_link(link, Slinks)\n",
    "\n",
    "SlinkTotals = pd.DataFrame(data=[ Slink.totalEvSize for Slink in Slinks ], columns=['EvSize'])\n",
    "#print(SlinkTotals)\n"
   ]
  },
  {
   "cell_type": "code",
   "execution_count": 16,
   "metadata": {},
   "outputs": [
    {
     "name": "stderr",
     "output_type": "stream",
     "text": [
      "/home/taylan/anaconda3/lib/python3.8/site-packages/seaborn/distributions.py:2557: FutureWarning: `distplot` is a deprecated function and will be removed in a future version. Please adapt your code to use either `displot` (a figure-level function with similar flexibility) or `histplot` (an axes-level function for histograms).\n",
      "  warnings.warn(msg, FutureWarning)\n",
      "/home/taylan/anaconda3/lib/python3.8/site-packages/seaborn/distributions.py:2056: FutureWarning: The `axis` variable is no longer used and will be removed. Instead, assign variables directly to `x` or `y`.\n",
      "  warnings.warn(msg, FutureWarning)\n"
     ]
    },
    {
     "data": {
      "text/plain": [
       "<matplotlib.legend.Legend at 0x7f0a9cb17640>"
      ]
     },
     "execution_count": 16,
     "metadata": {},
     "output_type": "execute_result"
    },
    {
     "data": {
      "image/png": "[encoded data removed]",
      "text/plain": [
       "<Figure size 1008x432 with 1 Axes>"
      ]
     },
     "metadata": {
      "needs_background": "light"
     },
     "output_type": "display_data"
    }
   ],
   "source": [
    "f, ax = plt.subplots(figsize=(7, 3))\n",
    "sns.distplot(\n",
    "    SlinkTotals['EvSize'],\n",
    "    kde=False,\n",
    "    rug=True,\n",
    "    color = 'g',\n",
    "    label='Slinks'\n",
    "    )\n",
    "plt.annotate('Average', xy=(avSlinkEvSize,0), xytext=(avSlinkEvSize, 30),  ha='center',\n",
    "             arrowprops=dict(facecolor='black', shrink=0.05, headwidth=4, width=1))\n",
    "plt.legend()\n",
    "\n",
    "\n"
   ]
  },
  {
   "cell_type": "code",
   "execution_count": 17,
   "metadata": {},
   "outputs": [],
   "source": [
    "model = pyo.ConcreteModel()"
   ]
  },
  {
   "cell_type": "code",
   "execution_count": 18,
   "metadata": {},
   "outputs": [
    {
     "name": "stdout",
     "output_type": "stream",
     "text": [
      "224\n",
      "28\n"
     ]
    }
   ],
   "source": [
    "Single1=[str(k) for k in singleGBTRates_1.keys()]\n",
    "Double1 = [str(k) for k in doubleGBTRates_1.keys()]\n",
    "Slink = [str(i) for i in range(1,nSlinks+1)]\n",
    "FPGA = [str(i) for i in range(1,nFPGA+1)]\n",
    "#print(Single1)\n",
    "#print(Double1)\n",
    "print(len(Slink))\n",
    "print(len(FPGA))\n"
   ]
  },
  {
   "cell_type": "code",
   "execution_count": 19,
   "metadata": {},
   "outputs": [],
   "source": [
    "model.GKSingles1 = pyo.Var(Single1, Slink, initialize = 0, within = pyo.Binary)\n",
    "model.GKDoubles1 = pyo.Var(Double1, Slink, initialize = 0, within = pyo.Binary)\n",
    "model.GKSlinks = pyo.Var(Slink, FPGA, initialize = 0, within = pyo.Binary)\n",
    "\n"
   ]
  },
  {
   "cell_type": "code",
   "execution_count": 20,
   "metadata": {},
   "outputs": [],
   "source": [
    "if warmStart==True or hardStart==True:\n",
    "    i=1\n",
    "    for slink in Slinks:\n",
    "        #print(slink.linkList)\n",
    "        for link in slink.linkList:\n",
    "            #print(link)\n",
    "            if str(link) in Single1:\n",
    "                model.GKSingles1[str(link),str(i)]=1\n",
    "            elif str(link) in Double1:\n",
    "                model.GKDoubles1[str(link),str(i)]=1\n",
    "        i+=1\n"
   ]
  },
  {
   "cell_type": "code",
   "execution_count": 21,
   "metadata": {},
   "outputs": [],
   "source": [
    "def SetNumberofLinks1(model, i):\n",
    "    return sum([ model.GKSingles1[i, j] for j in Slink ]) == 1\n",
    "    \n",
    "def SetNumberofLinks2(model, i):\n",
    "    return sum([ model.GKDoubles1[i, j] for j in Slink ]) == 1\n",
    "    \n",
    "def SetNumberofLinks3(model, i):\n",
    "    return sum([ model.GKSlinks[i, j] for j in FPGA ]) == 1\n",
    "    \n",
    "model.linkCutS1 = pyo.Constraint(Single1, rule = SetNumberofLinks1)\n",
    "model.linkCutD1 = pyo.Constraint(Double1, rule = SetNumberofLinks2)\n",
    "model.linkCutSK = pyo.Constraint(Slink, rule = SetNumberofLinks3)\n"
   ]
  },
  {
   "cell_type": "code",
   "execution_count": 22,
   "metadata": {},
   "outputs": [],
   "source": [
    "def maxGBTs(model, j):\n",
    "    return sum([ model.GKSingles1[i, j] for i in Single1 ]) + 2*sum([ model.GKDoubles1[i, j] for i in Double1 ]) <= maxGBTsPerSlink\n",
    "\n",
    "def PerFPGA(model, j):   \n",
    "    return sum([ model.GKSlinks[i, j] for i in Slink ]) == SlinkPerFPGA \n",
    "\n",
    "model.maxlpGBT = pyo.Constraint(Slink, rule = maxGBTs)\n",
    "model.PerFPGA = pyo.Constraint(FPGA,  rule = PerFPGA)\n",
    "\n"
   ]
  },
  {
   "cell_type": "code",
   "execution_count": 23,
   "metadata": {},
   "outputs": [
    {
     "data": {
      "text/plain": [
       "8"
      ]
     },
     "execution_count": 23,
     "metadata": {},
     "output_type": "execute_result"
    }
   ],
   "source": [
    " SlinkPerFPGA "
   ]
  },
  {
   "cell_type": "code",
   "execution_count": 24,
   "metadata": {},
   "outputs": [],
   "source": [
    "def RateCut(model, j):   \n",
    "    return sum([ singleGBTRates_1[int(i)]*model.GKSingles1[i, j] for i in Single1 ]) + sum([ doubleGBTRates_1[int(i)]*model.GKDoubles1[i, j] for i in Double1 ]) <= maxSlinkRatePyomo \n",
    "        \n",
    "model.ratelimit = pyo.Constraint(Slink, rule = RateCut)\n"
   ]
  },
  {
   "cell_type": "code",
   "execution_count": 25,
   "metadata": {},
   "outputs": [],
   "source": [
    "GKavSlinkRate = (totalRate/nSlinks)\n",
    "#print(GKavSlinkRate)\n"
   ]
  },
  {
   "cell_type": "code",
   "execution_count": 26,
   "metadata": {},
   "outputs": [],
   "source": [
    "def OBJrule(model):\n",
    "    GKslinkRatesVariance=0\n",
    "    for j in Slink:\n",
    "        GKslinkRates=sum([ singleGBTRates_1[int(i)]*model.GKSingles1[i, j] for i in Single1 ]) + sum([ doubleGBTRates_1[int(i)]*model.GKDoubles1[i, j] for i in Double1 ]) \n",
    "        GKslinkRatesVariance +=  abs(GKslinkRates-GKavSlinkRate)  \n",
    "    GKslinkRatesStDev = (GKslinkRatesVariance / (nSlinks-1))\n",
    "    return GKslinkRatesStDev\n",
    "model.objective = pyo.Objective(rule=OBJrule, sense=pyo.minimize)\n",
    "\n"
   ]
  },
  {
   "cell_type": "code",
   "execution_count": 27,
   "metadata": {},
   "outputs": [],
   "source": [
    "if hardStart==False:\n",
    "    #pyo.SolverFactory('mindtpy').solve(model, mip_solver='glpk', nlp_solver='ipopt', tee=True)\n",
    "    pyo.SolverFactory('./PyomoSolvers/couenne-linux64/couenne').solve(model, tee=False)\n",
    "    #pyo.SolverFactory('./PyomoSolvers/SCIPOptSuite-7.0.1-Darwin/bin/scip').solve(model, tee=True)\n",
    "    #pyo.SolverFactory('./PyomoSolvers/apopt-master/apopt.py').solve(model, tee=True) \n",
    "\n"
   ]
  },
  {
   "cell_type": "code",
   "execution_count": 28,
   "metadata": {},
   "outputs": [],
   "source": [
    "model.GKSingles1.fix()\n",
    "model.GKDoubles1.fix()\n"
   ]
  },
  {
   "cell_type": "code",
   "execution_count": 29,
   "metadata": {},
   "outputs": [],
   "source": [
    "with open('./ScriptRuns/'+str(nFPGA)+'224_FPGA_run1.pkl', mode='wb+') as file:\n",
    "    cloudpickle.dump(model, file)\n"
   ]
  },
  {
   "cell_type": "code",
   "execution_count": 30,
   "metadata": {},
   "outputs": [
    {
     "name": "stdout",
     "output_type": "stream",
     "text": [
      "Average Slink Rate: 447.6300663839284\n",
      "Std:  16.530657857543318\n",
      "objective : Size=1, Index=None, Active=True\n",
      "    Key  : Active : Value\n",
      "    None :   True : 16.530657857543318\n"
     ]
    }
   ],
   "source": [
    "print(\"Average Slink Rate:\", GKavSlinkRate)\n",
    "print(\"Std: \", value(model.objective))\n",
    "model.objective.display()\n"
   ]
  },
  {
   "cell_type": "code",
   "execution_count": 35,
   "metadata": {},
   "outputs": [],
   "source": [
    "#with open('./ScriptRuns/mediums28224_FPGA_run2_threhold900_16h_part0.pkl', mode='rb') as file:\n",
    "    #model = cloudpickle.load(file)"
   ]
  },
  {
   "cell_type": "code",
   "execution_count": 37,
   "metadata": {},
   "outputs": [],
   "source": [
    "#with open('./ScriptRuns/mediums28FPGA_run2_part0.pkl', mode='rb') as file:\n",
    "    #model = cloudpickle.load(file)"
   ]
  },
  {
   "cell_type": "code",
   "execution_count": null,
   "metadata": {},
   "outputs": [
    {
     "name": "stdout",
     "output_type": "stream",
     "text": [
      "-----------------------------------------------\n",
      "len(singleGBTRates_2):  54\n",
      "Doing part:  0\n",
      "GKavSlinkRate:  467.9041528124999\n",
      "maxSlinkRatePyomo:  1000\n"
     ]
    }
   ],
   "source": [
    "for splitDict,splitDictName,dictNo in zip([medS],['mediums'],['2']):\n",
    "#for splitDict,splitDictName,dictNo in zip([medS, lowS],['mediums','lows'],['2','3']):\n",
    "    #for partNumber in range(splitNumber):\n",
    "    for partNumber in range(8): #range(splitNumber):\n",
    "        print('-----------------------------------------------')\n",
    "        # In[43]:\n",
    "        if partNumber==0 and dictNo=='2':\n",
    "            with open('./ScriptRuns/'+str(nFPGA)+'224_FPGA_run1.pkl', mode='rb') as file:\n",
    "                model = cloudpickle.load(file)\n",
    "        #elif partNumber==0 and dictNo=='3':\n",
    "        \t#with open('./ScriptRuns/mediums'+str(nFPGA)+'FPGA_run2_part'+str(splitNumber-1)+'.pkl', mode='rb') as file:\n",
    "        \t\t#model = cloudpickle.load(file)\n",
    "        else:\n",
    "            with open('./ScriptRuns/'+str(splitDictName)+str(nFPGA)+'224_FPGA_run2_threhold900_16h_part'+str(partNumber-1)+'.pkl', mode='rb') as file:\n",
    "                model = cloudpickle.load(file)\n",
    "        \n",
    "\n",
    "\n",
    "        # In[44]:\n",
    "\n",
    "        \n",
    "        singleGBTRates_2 =split_dict_equally(splitDict,8)[partNumber]\n",
    "\n",
    "        print('len(singleGBTRates_2): ',len(singleGBTRates_2))\n",
    "        #print(singleGBTRates_2)\n",
    "\n",
    "\n",
    "        Single2=[str(k) for k in singleGBTRates_2.keys()]\n",
    "\n",
    "\n",
    "        # In[46]:\n",
    "        print('Doing part: ',partNumber)\n",
    "        name='GKSingles'+dictNo+'_'+str(partNumber)\n",
    "        model.add_component(name, pyo.Var(Single2, Slink, initialize = 0, within = pyo.Binary))\n",
    "    \n",
    "\n",
    "        #for v in model.component_data_objects(pyo.Var, active=True):\n",
    "        #    print(v, pyo.value(v))  # doctest: +SKIP\n",
    "        #model.pprint()\n",
    "        Vars= {}\n",
    "        for v in model.component_objects(pyo.Var, active=True):\n",
    "            #print(\"Variable\",v) \n",
    "            lpList=[]\n",
    "            if v.name.startswith('GKSingles'):\n",
    "                for index in v:\n",
    "                    #print (\"   \",index, pyo.value(v[index]))\n",
    "                    if index[0] not in lpList:\n",
    "                        lpList.append(index[0])\n",
    "                    #print(index[0])\n",
    "                Vars[v.name]=[lpList,v] # doctest: +SKIP\n",
    "\n",
    "        #print(Vars,'\\n')\n",
    "\n",
    "        singleGBTRates_2_ALL={}\n",
    "        for k,v in Vars.items():\n",
    "            if not k.startswith('GKSingles1'):\n",
    "                tempDict=medS if k.startswith('GKSingles2') else lowS\n",
    "                for l in v[0]:\n",
    "                    singleGBTRates_2_ALL[int(l)]=tempDict[int(l)]\n",
    "\n",
    "        #print(singleGBTRates_2_ALL)\n",
    "        Single2_ALL = [str(k) for k in singleGBTRates_2_ALL.keys()]\n",
    "\n",
    "        totalRate = ( sum([i for i in singleGBTRates_1.values()])+sum([i for i in singleGBTRates_2_ALL.values()])+sum([i for i in doubleGBTRates_1.values()]) )\n",
    "        GKavSlinkRate = (totalRate/nSlinks)\n",
    "        #maxSlinkRatePyomo = (totalRate / nSlinks)*1.8\n",
    "        maxSlinkRatePyomo =1000\n",
    "        print('GKavSlinkRate: ', GKavSlinkRate)\n",
    "        print('maxSlinkRatePyomo: ', maxSlinkRatePyomo)\n",
    "\n",
    "\n",
    "\n",
    "        #print(Vars)\n",
    "        if partNumber!=0 or dictNo=='3':\n",
    "            model.del_component(model.linkCutS2)\n",
    "            model.del_component(model.linkCutS2_index)\n",
    "        def SetNumberofLinks12(model, i):\n",
    "            name='GKSingles'+dictNo+'_'+str(partNumber)\n",
    "            return sum( [Vars[name][1][i, j] for j in Slink ]) == 1\n",
    "        #def SetNumberofLinks22(model, i):\n",
    "        #    return sum([ model.GKDoubles2[i, j] for j in Slink ]) == 1\n",
    "        model.linkCutS2 = pyo.Constraint(Single2, rule = SetNumberofLinks12)\n",
    "        #model.linkCutD2 = pyo.Constraint(Double2, rule = SetNumberofLinks22)\n",
    "\n",
    "        model.del_component(model.maxlpGBT)\n",
    "        model.del_component(model.maxlpGBT_index)\n",
    "        def maxGBTs(model, j):\n",
    "            GKSingles2=0\n",
    "            dNL = ['2','3'] if dictNo=='3' else ['2']\n",
    "            for dN in dNL:\n",
    "                if dN=='2':\n",
    "                    for pNo in range(partNumber+1):\n",
    "                        name='GKSingles'+dN+'_'+str(pNo)\n",
    "                        GKSingles2 += sum( [ Vars[name][1][i, j] for i in Vars[name][0]])\n",
    "                \n",
    "            return sum([ model.GKSingles1[i, j].value for i in Single1]) + GKSingles2 + 2*sum([ model.GKDoubles1[i, j].value  for i in Double1 ])  <= maxGBTsPerSlink\n",
    "        model.maxlpGBT = pyo.Constraint(Slink, rule = maxGBTs)\n",
    "\n",
    "        model.del_component(model.ratelimit)\n",
    "        model.del_component(model.ratelimit_index)\n",
    "        def RateCut(model, j):   \n",
    "            GKSingles2=0\n",
    "            dNL = ['2','3'] if dictNo=='3' else ['2']\n",
    "            for dN in dNL:\n",
    "                if dN=='2':\n",
    "                    for pNo in range(partNumber+1):\n",
    "                        name='GKSingles'+dN+'_'+str(pNo)\n",
    "                        GKSingles2 += sum( [singleGBTRates_2_ALL[int(i)]*Vars[name][1][i, j] for i in Vars[name][0] ])\n",
    "                \n",
    "            return (1 , sum([ singleGBTRates_1[int(i)]*model.GKSingles1[i, j] for i in Single1])+ GKSingles2  + sum([ doubleGBTRates_1[int(i)]*model.GKDoubles1[i, j] for i in Double1])  , maxSlinkRatePyomo ) \n",
    "        model.ratelimit = pyo.Constraint(Slink, rule = RateCut)\n",
    "\n",
    "        model.del_component(model.objective)\n",
    "        def OBJrule(model):\n",
    "            GKslinkRatesVariance=0\n",
    "            for j in Slink:\n",
    "                GKSingles2=0\n",
    "                c=0\n",
    "                dNL = ['2','3'] if dictNo=='3' else ['2']\n",
    "                for dN in dNL:\n",
    "                    if dN=='2':\n",
    "                        for pNo in range(partNumber+1):\n",
    "                            c+=1\n",
    "                            name='GKSingles'+dN+'_'+str(pNo)\n",
    "                            GKSingles2 += sum( [singleGBTRates_2_ALL[int(i)]*Vars[name][1][i, j] for i in Vars[name][0] ])\n",
    "                    \n",
    "                GKslinkRates=sum([ singleGBTRates_1[int(i)]*model.GKSingles1[i, j] for i in Single1])+ GKSingles2  + sum([ doubleGBTRates_1[int(i)]*model.GKDoubles1[i, j] for i in Double1])\n",
    "                GKslinkRatesVariance +=  abs(GKslinkRates-GKavSlinkRate)\n",
    "            GKslinkRatesStDev = (GKslinkRatesVariance / (nSlinks-1))\n",
    "            return GKslinkRatesStDev\n",
    "        model.objective = pyo.Objective(rule=OBJrule, sense=pyo.minimize)\n",
    "\n",
    "\n",
    "        # In[47]:\n",
    "\n",
    "\n",
    "        #model.pprint()\n",
    "\n",
    "\n",
    "        # In[49]:\n",
    "\n",
    "\n",
    "        #pyo.SolverFactory('mindtpy').solve(model, mip_solver='glpk', nlp_solver='ipopt', tee=True)\n",
    "        pyo.SolverFactory('./PyomoSolvers/couenne-linux64/couenne').solve(model, tee=False)\n",
    "        #pyo.SolverFactory('./PyomoSolvers/SCIPOptSuite-7.0.1-Darwin/bin/scip').solve(model, tee=True)\n",
    "        #pyo.SolverFactory('./PyomoSolvers/apopt-master/apopt.py').solve(model, tee=True)\n",
    "\n",
    "\n",
    "        # In[50]:\n",
    "        name='GKSingles'+dictNo+'_'+str(partNumber)\n",
    "        for i in Vars[name][0]:\n",
    "            sumLink=0\n",
    "            for j in Slink:\n",
    "                sumLink+=Vars[name][1][i,j].value\n",
    "            if sumLink!=1:\n",
    "                print('Error! Not all lpGBTs are linked!')\n",
    "                sys.exit()\n",
    "\n",
    "\n",
    "        # In[51]:\n",
    "\n",
    "\n",
    "        Vars[name][1].fix()\n",
    "\n",
    "\n",
    "        # In[52]:\n",
    "\n",
    "\n",
    "        with open('./ScriptRuns/'+str(splitDictName)+str(nFPGA)+'224_FPGA_run2_threhold900_16h_part'+str(partNumber)+'.pkl', mode='wb+') as file:\n",
    "            cloudpickle.dump(model, file)\n"
   ]
  },
  {
   "cell_type": "code",
   "execution_count": null,
   "metadata": {},
   "outputs": [],
   "source": [
    "print(\"Average Slink Rate:\", GKavSlinkRate)\n",
    "print(\"Std: \", value(model.objective))\n",
    "model.objective.display()\n",
    "\n"
   ]
  },
  {
   "cell_type": "code",
   "execution_count": null,
   "metadata": {},
   "outputs": [],
   "source": [
    "singleGBTRates_2 =split_dict_equally(lowS,2)[0]\n",
    "singleGBTRates_2"
   ]
  },
  {
   "cell_type": "code",
   "execution_count": null,
   "metadata": {},
   "outputs": [],
   "source": [
    "Vars"
   ]
  }
 ],
 "metadata": {
  "kernelspec": {
   "display_name": "Python 3",
   "language": "python",
   "name": "python3"
  },
  "language_info": {
   "codemirror_mode": {
    "name": "ipython",
    "version": 3
   },
   "file_extension": ".py",
   "mimetype": "text/x-python",
   "name": "python",
   "nbconvert_exporter": "python",
   "pygments_lexer": "ipython3",
   "version": "3.8.8"
  }
 },
 "nbformat": 4,
 "nbformat_minor": 4
}
